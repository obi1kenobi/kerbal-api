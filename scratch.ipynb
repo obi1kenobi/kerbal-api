{
 "cells": [
  {
   "cell_type": "code",
   "execution_count": null,
   "metadata": {},
   "outputs": [],
   "source": [
    "from typing import Any, Dict, List\n",
    "\n",
    "from kerbal_api.querying import execute_query, get_default_adapter\n",
    "\n",
    "adapter = get_default_adapter()"
   ]
  },
  {
   "cell_type": "code",
   "execution_count": null,
   "metadata": {},
   "outputs": [],
   "source": [
    "def run_query(query: str, args: Dict[str, Any]) -> List[Dict[str, Any]]:\n",
    "    return list(execute_query(adapter, query, args))"
   ]
  },
  {
   "cell_type": "code",
   "execution_count": null,
   "metadata": {},
   "outputs": [],
   "source": [
    "query = \"\"\"\n",
    "{\n",
    "    Part {\n",
    "        name @output(out_name: \"part_name\")\n",
    "        cost @output(out_name: \"part_cost\")\n",
    "        dry_mass @output(out_name: \"part_dry_mass\")\n",
    "        \n",
    "        out_Part_EngineModule {\n",
    "            throttleable @output(out_name: \"throttleable\")\n",
    "            isp_vacuum @output(out_name: \"isp_vacuum\")\n",
    "        }\n",
    "    }\n",
    "}\n",
    "\"\"\"\n",
    "args = {}"
   ]
  },
  {
   "cell_type": "code",
   "execution_count": null,
   "metadata": {},
   "outputs": [],
   "source": [
    "query = \"\"\"\n",
    "{\n",
    "    Part {\n",
    "        name @output(out_name: \"part_name\")\n",
    "        cfg_file_path @output(out_name: \"part_cfg_file\")\n",
    "        cost @output(out_name: \"part_cost\")\n",
    "        dry_mass @output(out_name: \"part_dry_mass\")\n",
    "        \n",
    "        out_Part_EngineModule {\n",
    "            throttleable @filter(op_name: \"=\", value: [\"$throttleable\"])\n",
    "            isp_vacuum @output(out_name: \"isp_vacuum\")\n",
    "        }\n",
    "    }\n",
    "}\n",
    "\"\"\"\n",
    "args = {\n",
    "    \"throttleable\": False,\n",
    "}"
   ]
  },
  {
   "cell_type": "code",
   "execution_count": null,
   "metadata": {},
   "outputs": [],
   "source": [
    "query = \"\"\"\n",
    "{\n",
    "    Part {\n",
    "        name @output(out_name: \"part_name\")\n",
    "        cfg_file_path @output(out_name: \"part_cfg_file\")\n",
    "        cost @output(out_name: \"part_cost\")\n",
    "        dry_mass @output(out_name: \"part_dry_mass\")\n",
    "        \n",
    "        out_Part_EngineModule {\n",
    "            isp_at_1atm @filter(op_name: \"is_null\")\n",
    "        }\n",
    "    }\n",
    "}\n",
    "\"\"\"\n",
    "args = {}"
   ]
  },
  {
   "cell_type": "code",
   "execution_count": null,
   "metadata": {},
   "outputs": [],
   "source": [
    "query = \"\"\"\n",
    "{\n",
    "    Part {\n",
    "        internal_name @filter(op_name: \"=\", value: [\"$internal_name\"])\n",
    "        cost @output(out_name: \"part_cost\")\n",
    "        dry_mass @output(out_name: \"part_dry_mass\")\n",
    "        \n",
    "        out_Part_EngineModule {\n",
    "            min_thrust @output(out_name: \"min_thrust\")\n",
    "            max_thrust @output(out_name: \"max_thrust\")\n",
    "            throttleable @output(out_name: \"throttleable\")\n",
    "            isp_vacuum @output(out_name: \"isp_vacuum\")\n",
    "            isp_at_1atm @output(out_name: \"isp_at_1atm\")\n",
    "        }\n",
    "    }\n",
    "}\n",
    "\"\"\"\n",
    "args = {\n",
    "    \"internal_name\": \"RAPIER\",\n",
    "}"
   ]
  },
  {
   "cell_type": "code",
   "execution_count": null,
   "metadata": {},
   "outputs": [],
   "source": [
    "query = \"\"\"\n",
    "{\n",
    "    Part {\n",
    "        internal_name @filter(op_name: \"=\", value: [\"$name\"])\n",
    "        name @output(out_name: \"part_name\")\n",
    "\n",
    "        out_Part_HasDefaultResource @optional {\n",
    "            out_ContainedResource_Resource {\n",
    "                name @output(out_name: \"contained_resource\")\n",
    "            }\n",
    "        }\n",
    "    }\n",
    "}\n",
    "\"\"\"\n",
    "args: Dict[str, Any] = {\"name\": \"PotatoRoid\"}"
   ]
  },
  {
   "cell_type": "code",
   "execution_count": null,
   "metadata": {},
   "outputs": [],
   "source": [
    "run_query(query, args)"
   ]
  }
 ],
 "metadata": {
  "kernelspec": {
   "display_name": "Python 3",
   "language": "python",
   "name": "python3"
  },
  "language_info": {
   "codemirror_mode": {
    "name": "ipython",
    "version": 3
   },
   "file_extension": ".py",
   "mimetype": "text/x-python",
   "name": "python",
   "nbconvert_exporter": "python",
   "pygments_lexer": "ipython3",
   "version": "3.8.2"
  }
 },
 "nbformat": 4,
 "nbformat_minor": 4
}
